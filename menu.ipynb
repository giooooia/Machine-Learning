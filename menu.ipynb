{
  "nbformat": 4,
  "nbformat_minor": 0,
  "metadata": {
    "colab": {
      "provenance": [],
      "authorship_tag": "ABX9TyMUylZlfwrHAJ+3dzC1QHNN",
      "include_colab_link": true
    },
    "kernelspec": {
      "name": "python3",
      "display_name": "Python 3"
    },
    "language_info": {
      "name": "python"
    }
  },
  "cells": [
    {
      "cell_type": "markdown",
      "metadata": {
        "id": "view-in-github",
        "colab_type": "text"
      },
      "source": [
        "<a href=\"https://colab.research.google.com/github/giooooia/Machine-Learning/blob/menu/menu.ipynb\" target=\"_parent\"><img src=\"https://colab.research.google.com/assets/colab-badge.svg\" alt=\"Open In Colab\"/></a>"
      ]
    },
    {
      "cell_type": "code",
      "source": [
        "import pandas as pd\n",
        "import os\n",
        "import matplotlib.pyplot as plt"
      ],
      "metadata": {
        "id": "fqvylbDTcGu8"
      },
      "execution_count": 7,
      "outputs": []
    },
    {
      "cell_type": "code",
      "source": [
        "def carica_dataset(percorso=None):\n",
        "    print(\"=== CARICAMENTO DATASET ===\")\n",
        "\n",
        "    if percorso is None:\n",
        "        percorso = input(\"Inserisci il percorso del file CSV (es. data/dataset.csv): \")\n",
        "\n",
        "    # Controllo che il file esista\n",
        "    if not os.path.exists(percorso):\n",
        "        print(f\"❌ Errore: il file '{percorso}' non esiste.\")\n",
        "        return None\n",
        "\n",
        "    # Prova a leggere il CSV\n",
        "    try:\n",
        "        df = pd.read_csv(percorso)\n",
        "        print(\"✅ Dataset caricato correttamente!\")\n",
        "    except Exception as e:\n",
        "        print(f\"❌ Errore nel caricamento: {e}\")\n",
        "        return None\n",
        "\n",
        "    # Mostra info di base\n",
        "    print(f\"Numero di righe: {df.shape[0]}, colonne: {df.shape[1]}\")\n",
        "    print(\"Colonne trovate:\", list(df.columns))\n",
        "    print(\"\\nPrime 5 righe del dataset:\")\n",
        "    print(df.head())\n",
        "\n",
        "    return df\n"
      ],
      "metadata": {
        "id": "oZz131E1b4cT"
      },
      "execution_count": 5,
      "outputs": []
    },
    {
      "cell_type": "code",
      "source": [
        "def plot_distribuzioni(df):\n",
        "      num_cols = df.select_dtypes(include=['float64', 'int64']).columns\n",
        "      df[num_cols].hist(bins=20, figsize=(12, 8))\n",
        "      plt.tight_layout()\n",
        "      plt.show()"
      ],
      "metadata": {
        "id": "JRFMCTi3c4CQ"
      },
      "execution_count": 6,
      "outputs": []
    },
    {
      "cell_type": "code",
      "source": [
        "def analizza_dati(df):\n",
        "    print(\"=== ANALISI DEL DATASET ===\")\n",
        "    print(f\"Numero di campioni: {df.shape[0]}\")\n",
        "    print(f\"Numero di feature: {df.shape[1]}\")\n",
        "    print(\"\\nTipi di dato:\")\n",
        "    print(df.dtypes)\n",
        "    print(\"\\nStatistiche descrittive:\")\n",
        "    print(df.describe())\n",
        "    missing = df.isnull().sum().sum()\n",
        "    if missing > 0:\n",
        "      print(f\"\\n⚠️ Attenzione: ci sono {missing} valori mancanti totali!\")\n",
        "    else:\n",
        "      print(\"\\n✅ Nessun valore mancante trovato.\")\n",
        "    num_duplicates = df.duplicated().sum()\n",
        "    if num_duplicates > 0:\n",
        "      print(f\"\\n⚠️ Attenzione: ci sono {num_duplicates} righe duplicate!\")\n",
        "    else:\n",
        "      print(\"\\n✅ Nessuna riga duplicata trovata.\")\n",
        "    corr = df.corr(numeric_only=True)\n",
        "    print(\"\\nMatrice di correlazione (numeriche):\")\n",
        "    print(corr.round(2))\n",
        "    print('\\nDistribuzioni delle features:')\n",
        "    plot_distribuzioni(df)"
      ],
      "metadata": {
        "id": "zWHlRhd9cTEw"
      },
      "execution_count": 8,
      "outputs": []
    },
    {
      "cell_type": "code",
      "execution_count": 9,
      "metadata": {
        "id": "F5cINVWsb06n"
      },
      "outputs": [],
      "source": [
        "def main():\n",
        "    df = None\n",
        "    while True:\n",
        "        print(\"\\n===== MENU =====\")\n",
        "        print(\"1. Carica dataset\")\n",
        "        print(\"2. Analisi dei dati\")\n",
        "        print(\"0. Esci\")\n",
        "        scelta = input(\"Scegli opzione: \")\n",
        "\n",
        "        if scelta == '1':\n",
        "            df = carica_dataset()\n",
        "        elif scelta == '2':\n",
        "            if df is not None:\n",
        "                analizza_dati(df)\n",
        "            else:\n",
        "                print(\"⚠️ Devi prima caricare un dataset!\")\n",
        "        elif scelta == '0':\n",
        "            print(\"Uscita...\")\n",
        "            break\n",
        "        else:\n",
        "            print(\"Scelta non valida!\")"
      ]
    },
    {
      "cell_type": "code",
      "source": [
        "main()"
      ],
      "metadata": {
        "colab": {
          "base_uri": "https://localhost:8080/"
        },
        "id": "wptd1fa2eKNR",
        "outputId": "dc47d213-5039-4980-ceca-1e77b53fb361"
      },
      "execution_count": 12,
      "outputs": [
        {
          "output_type": "stream",
          "name": "stdout",
          "text": [
            "\n",
            "===== MENU =====\n",
            "1. Carica dataset\n",
            "2. Analisi dei dati\n",
            "0. Esci\n",
            "Scegli opzione: 1\n",
            "=== CARICAMENTO DATASET ===\n",
            "Inserisci il percorso del file CSV (es. data/dataset.csv): /content/divorce_df.csv\n",
            "✅ Dataset caricato correttamente!\n",
            "Numero di righe: 5000, colonne: 22\n",
            "Colonne trovate: ['age_at_marriage', 'marriage_duration_years', 'num_children', 'education_level', 'employment_status', 'combined_income', 'religious_compatibility', 'cultural_background_match', 'communication_score', 'conflict_frequency', 'conflict_resolution_style', 'financial_stress_level', 'mental_health_issues', 'infidelity_occurred', 'counseling_attended', 'social_support', 'shared_hobbies_count', 'marriage_type', 'pre_marital_cohabitation', 'domestic_violence_history', 'trust_score', 'divorced']\n",
            "\n",
            "Prime 5 righe del dataset:\n",
            "   age_at_marriage  marriage_duration_years  num_children  \\\n",
            "0               30                        1             1   \n",
            "1               27                        2             2   \n",
            "2               31                        6             0   \n",
            "3               35                        3             2   \n",
            "4               26                        2             2   \n",
            "\n",
            "       education_level employment_status  combined_income  \\\n",
            "0             Bachelor         Full-time            64001   \n",
            "1               Master         Full-time            86221   \n",
            "2          High School         Part-time            69441   \n",
            "3             Bachelor         Full-time            69513   \n",
            "4  No Formal Education         Full-time            63986   \n",
            "\n",
            "  religious_compatibility  cultural_background_match  communication_score  \\\n",
            "0      Different Religion                          1             5.536016   \n",
            "1           Same Religion                          1             5.810172   \n",
            "2           Same Religion                          0             6.088146   \n",
            "3           Not Religious                          1             6.212046   \n",
            "4      Different Religion                          1             4.826262   \n",
            "\n",
            "   conflict_frequency  ... mental_health_issues  infidelity_occurred  \\\n",
            "0                   3  ...                    0                    0   \n",
            "1                   3  ...                    0                    1   \n",
            "2                   3  ...                    0                    0   \n",
            "3                   3  ...                    0                    0   \n",
            "4                   1  ...                    0                    0   \n",
            "\n",
            "   counseling_attended  social_support  shared_hobbies_count  marriage_type  \\\n",
            "0                    0        8.428183                     5           Love   \n",
            "1                    0        5.297221                     1           Love   \n",
            "2                    0        5.887066                     1       Arranged   \n",
            "3                    0        5.263555                     5           Love   \n",
            "4                    1        5.771259                     4           Love   \n",
            "\n",
            "   pre_marital_cohabitation domestic_violence_history  trust_score  divorced  \n",
            "0                         1                         0     6.262411         1  \n",
            "1                         1                         0     6.769384         1  \n",
            "2                         1                         0     5.532866         1  \n",
            "3                         1                         0     3.491264         0  \n",
            "4                         1                         0    10.000000         1  \n",
            "\n",
            "[5 rows x 22 columns]\n",
            "\n",
            "⚠️ Nessuna colonna 'target' trovata automaticamente.\n",
            "\n",
            "===== MENU =====\n",
            "1. Carica dataset\n",
            "2. Analisi dei dati\n",
            "0. Esci\n",
            "Scegli opzione: 0\n",
            "Uscita...\n"
          ]
        }
      ]
    }
  ]
}
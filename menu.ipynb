{
  "nbformat": 4,
  "nbformat_minor": 0,
  "metadata": {
    "colab": {
      "provenance": [],
      "authorship_tag": "ABX9TyMUylZlfwrHAJ+3dzC1QHNN",
      "include_colab_link": true
    },
    "kernelspec": {
      "name": "python3",
      "display_name": "Python 3"
    },
    "language_info": {
      "name": "python"
    }
  },
  "cells": [
    {
      "cell_type": "markdown",
      "metadata": {
        "id": "view-in-github",
        "colab_type": "text"
      },
      "source": [
        "<a href=\"https://colab.research.google.com/github/giooooia/Machine-Learning/blob/menu/menu.ipynb\" target=\"_parent\"><img src=\"https://colab.research.google.com/assets/colab-badge.svg\" alt=\"Open In Colab\"/></a>"
      ]
    },
    {
      "cell_type": "code",
      "source": [
        "import pandas as pd\n",
        "import os\n",
        "import matplotlib.pyplot as plt"
      ],
      "metadata": {
        "id": "fqvylbDTcGu8"
      },
      "execution_count": 7,
      "outputs": []
    },
    {
      "cell_type": "code",
      "source": [
        "def carica_dataset(percorso=None):\n",
        "    print(\"=== CARICAMENTO DATASET ===\")\n",
        "\n",
        "    if percorso is None:\n",
        "        percorso = input(\"Inserisci il percorso del file CSV (es. data/dataset.csv): \")\n",
        "\n",
        "    # Controllo che il file esista\n",
        "    if not os.path.exists(percorso):\n",
        "        print(f\"❌ Errore: il file '{percorso}' non esiste.\")\n",
        "        return None\n",
        "\n",
        "    # Prova a leggere il CSV\n",
        "    try:\n",
        "        df = pd.read_csv(percorso)\n",
        "        print(\"✅ Dataset caricato correttamente!\")\n",
        "    except Exception as e:\n",
        "        print(f\"❌ Errore nel caricamento: {e}\")\n",
        "        return None\n",
        "\n",
        "    # Mostra info di base\n",
        "    print(f\"Numero di righe: {df.shape[0]}, colonne: {df.shape[1]}\")\n",
        "    print(\"Colonne trovate:\", list(df.columns))\n",
        "    print(\"\\nPrime 5 righe del dataset:\")\n",
        "    print(df.head())\n",
        "\n",
        "    return df\n"
      ],
      "metadata": {
        "id": "oZz131E1b4cT"
      },
      "execution_count": 5,
      "outputs": []
    },
    {
      "cell_type": "code",
      "source": [
        "def plot_distribuzioni(df):\n",
        "      num_cols = df.select_dtypes(include=['float64', 'int64']).columns\n",
        "      df[num_cols].hist(bins=20, figsize=(12, 8))\n",
        "      plt.tight_layout()\n",
        "      plt.show()"
      ],
      "metadata": {
        "id": "JRFMCTi3c4CQ"
      },
      "execution_count": 6,
      "outputs": []
    },
    {
      "cell_type": "code",
      "source": [
        "def analizza_dati(df):\n",
        "    print(\"=== ANALISI DEL DATASET ===\")\n",
        "    print(f\"Numero di campioni: {df.shape[0]}\")\n",
        "    print(f\"Numero di feature: {df.shape[1]}\")\n",
        "    print(\"\\nTipi di dato:\")\n",
        "    print(df.dtypes)\n",
        "    print(\"\\nStatistiche descrittive:\")\n",
        "    print(df.describe())\n",
        "    missing = df.isnull().sum().sum()\n",
        "    if missing > 0:\n",
        "      print(f\"\\n⚠️ Attenzione: ci sono {missing} valori mancanti totali!\")\n",
        "    else:\n",
        "      print(\"\\n✅ Nessun valore mancante trovato.\")\n",
        "    num_duplicates = df.duplicated().sum()\n",
        "    if num_duplicates > 0:\n",
        "      print(f\"\\n⚠️ Attenzione: ci sono {num_duplicates} righe duplicate!\")\n",
        "    else:\n",
        "      print(\"\\n✅ Nessuna riga duplicata trovata.\")\n",
        "    corr = df.corr(numeric_only=True)\n",
        "    print(\"\\nMatrice di correlazione (numeriche):\")\n",
        "    print(corr.round(2))\n",
        "    print('\\nDistribuzioni delle features:')\n",
        "    plot_distribuzioni(df)"
      ],
      "metadata": {
        "id": "zWHlRhd9cTEw"
      },
      "execution_count": 8,
      "outputs": []
    },
    {
      "cell_type": "code",
      "execution_count": 9,
      "metadata": {
        "id": "F5cINVWsb06n"
      },
      "outputs": [],
      "source": [
        "def main():\n",
        "    df = None\n",
        "    while True:\n",
        "        print(\"\\n===== MENU =====\")\n",
        "        print(\"1. Carica dataset\")\n",
        "        print(\"2. Analisi dei dati\")\n",
        "        print(\"0. Esci\")\n",
        "        scelta = input(\"Scegli opzione: \")\n",
        "\n",
        "        if scelta == '1':\n",
        "            df = carica_dataset()\n",
        "        elif scelta == '2':\n",
        "            if df is not None:\n",
        "                analizza_dati(df)\n",
        "            else:\n",
        "                print(\"⚠️ Devi prima caricare un dataset!\")\n",
        "        elif scelta == '0':\n",
        "            print(\"Uscita...\")\n",
        "            break\n",
        "        else:\n",
        "            print(\"Scelta non valida!\")"
      ]
    },
    {
      "cell_type": "code",
      "source": [
        "main()"
      ],
      "metadata": {
        "colab": {
          "base_uri": "https://localhost:8080/",
          "height": 408
        },
        "id": "wptd1fa2eKNR",
        "outputId": "5d3576f0-c853-4eec-bc3e-20d8974ac375"
      },
      "execution_count": 11,
      "outputs": [
        {
          "output_type": "stream",
          "name": "stdout",
          "text": [
            "\n",
            "===== MENU =====\n",
            "1. Carica dataset\n",
            "2. Analisi dei dati\n",
            "0. Esci\n",
            "Scegli opzione: 1\n",
            "=== CARICAMENTO DATASET ===\n"
          ]
        },
        {
          "output_type": "error",
          "ename": "KeyboardInterrupt",
          "evalue": "Interrupted by user",
          "traceback": [
            "\u001b[0;31m---------------------------------------------------------------------------\u001b[0m",
            "\u001b[0;31mKeyboardInterrupt\u001b[0m                         Traceback (most recent call last)",
            "\u001b[0;32m/tmp/ipython-input-451043146.py\u001b[0m in \u001b[0;36m<cell line: 0>\u001b[0;34m()\u001b[0m\n\u001b[0;32m----> 1\u001b[0;31m \u001b[0mmain\u001b[0m\u001b[0;34m(\u001b[0m\u001b[0;34m)\u001b[0m\u001b[0;34m\u001b[0m\u001b[0;34m\u001b[0m\u001b[0m\n\u001b[0m",
            "\u001b[0;32m/tmp/ipython-input-1165493313.py\u001b[0m in \u001b[0;36mmain\u001b[0;34m()\u001b[0m\n\u001b[1;32m      9\u001b[0m \u001b[0;34m\u001b[0m\u001b[0m\n\u001b[1;32m     10\u001b[0m         \u001b[0;32mif\u001b[0m \u001b[0mscelta\u001b[0m \u001b[0;34m==\u001b[0m \u001b[0;34m'1'\u001b[0m\u001b[0;34m:\u001b[0m\u001b[0;34m\u001b[0m\u001b[0;34m\u001b[0m\u001b[0m\n\u001b[0;32m---> 11\u001b[0;31m             \u001b[0mdf\u001b[0m \u001b[0;34m=\u001b[0m \u001b[0mcarica_dataset\u001b[0m\u001b[0;34m(\u001b[0m\u001b[0;34m)\u001b[0m\u001b[0;34m\u001b[0m\u001b[0;34m\u001b[0m\u001b[0m\n\u001b[0m\u001b[1;32m     12\u001b[0m         \u001b[0;32melif\u001b[0m \u001b[0mscelta\u001b[0m \u001b[0;34m==\u001b[0m \u001b[0;34m'2'\u001b[0m\u001b[0;34m:\u001b[0m\u001b[0;34m\u001b[0m\u001b[0;34m\u001b[0m\u001b[0m\n\u001b[1;32m     13\u001b[0m             \u001b[0;32mif\u001b[0m \u001b[0mdf\u001b[0m \u001b[0;32mis\u001b[0m \u001b[0;32mnot\u001b[0m \u001b[0;32mNone\u001b[0m\u001b[0;34m:\u001b[0m\u001b[0;34m\u001b[0m\u001b[0;34m\u001b[0m\u001b[0m\n",
            "\u001b[0;32m/tmp/ipython-input-103775962.py\u001b[0m in \u001b[0;36mcarica_dataset\u001b[0;34m(percorso)\u001b[0m\n\u001b[1;32m      3\u001b[0m \u001b[0;34m\u001b[0m\u001b[0m\n\u001b[1;32m      4\u001b[0m     \u001b[0;32mif\u001b[0m \u001b[0mpercorso\u001b[0m \u001b[0;32mis\u001b[0m \u001b[0;32mNone\u001b[0m\u001b[0;34m:\u001b[0m\u001b[0;34m\u001b[0m\u001b[0;34m\u001b[0m\u001b[0m\n\u001b[0;32m----> 5\u001b[0;31m         \u001b[0mpercorso\u001b[0m \u001b[0;34m=\u001b[0m \u001b[0minput\u001b[0m\u001b[0;34m(\u001b[0m\u001b[0;34m\"Inserisci il percorso del file CSV (es. data/dataset.csv): \"\u001b[0m\u001b[0;34m)\u001b[0m\u001b[0;34m\u001b[0m\u001b[0;34m\u001b[0m\u001b[0m\n\u001b[0m\u001b[1;32m      6\u001b[0m \u001b[0;34m\u001b[0m\u001b[0m\n\u001b[1;32m      7\u001b[0m     \u001b[0;31m# Controllo che il file esista\u001b[0m\u001b[0;34m\u001b[0m\u001b[0;34m\u001b[0m\u001b[0m\n",
            "\u001b[0;32m/usr/local/lib/python3.12/dist-packages/ipykernel/kernelbase.py\u001b[0m in \u001b[0;36mraw_input\u001b[0;34m(self, prompt)\u001b[0m\n\u001b[1;32m   1175\u001b[0m                 \u001b[0;34m\"raw_input was called, but this frontend does not support input requests.\"\u001b[0m\u001b[0;34m\u001b[0m\u001b[0;34m\u001b[0m\u001b[0m\n\u001b[1;32m   1176\u001b[0m             )\n\u001b[0;32m-> 1177\u001b[0;31m         return self._input_request(\n\u001b[0m\u001b[1;32m   1178\u001b[0m             \u001b[0mstr\u001b[0m\u001b[0;34m(\u001b[0m\u001b[0mprompt\u001b[0m\u001b[0;34m)\u001b[0m\u001b[0;34m,\u001b[0m\u001b[0;34m\u001b[0m\u001b[0;34m\u001b[0m\u001b[0m\n\u001b[1;32m   1179\u001b[0m             \u001b[0mself\u001b[0m\u001b[0;34m.\u001b[0m\u001b[0m_parent_ident\u001b[0m\u001b[0;34m[\u001b[0m\u001b[0;34m\"shell\"\u001b[0m\u001b[0;34m]\u001b[0m\u001b[0;34m,\u001b[0m\u001b[0;34m\u001b[0m\u001b[0;34m\u001b[0m\u001b[0m\n",
            "\u001b[0;32m/usr/local/lib/python3.12/dist-packages/ipykernel/kernelbase.py\u001b[0m in \u001b[0;36m_input_request\u001b[0;34m(self, prompt, ident, parent, password)\u001b[0m\n\u001b[1;32m   1217\u001b[0m             \u001b[0;32mexcept\u001b[0m \u001b[0mKeyboardInterrupt\u001b[0m\u001b[0;34m:\u001b[0m\u001b[0;34m\u001b[0m\u001b[0;34m\u001b[0m\u001b[0m\n\u001b[1;32m   1218\u001b[0m                 \u001b[0;31m# re-raise KeyboardInterrupt, to truncate traceback\u001b[0m\u001b[0;34m\u001b[0m\u001b[0;34m\u001b[0m\u001b[0m\n\u001b[0;32m-> 1219\u001b[0;31m                 \u001b[0;32mraise\u001b[0m \u001b[0mKeyboardInterrupt\u001b[0m\u001b[0;34m(\u001b[0m\u001b[0;34m\"Interrupted by user\"\u001b[0m\u001b[0;34m)\u001b[0m \u001b[0;32mfrom\u001b[0m \u001b[0;32mNone\u001b[0m\u001b[0;34m\u001b[0m\u001b[0;34m\u001b[0m\u001b[0m\n\u001b[0m\u001b[1;32m   1220\u001b[0m             \u001b[0;32mexcept\u001b[0m \u001b[0mException\u001b[0m\u001b[0;34m:\u001b[0m\u001b[0;34m\u001b[0m\u001b[0;34m\u001b[0m\u001b[0m\n\u001b[1;32m   1221\u001b[0m                 \u001b[0mself\u001b[0m\u001b[0;34m.\u001b[0m\u001b[0mlog\u001b[0m\u001b[0;34m.\u001b[0m\u001b[0mwarning\u001b[0m\u001b[0;34m(\u001b[0m\u001b[0;34m\"Invalid Message:\"\u001b[0m\u001b[0;34m,\u001b[0m \u001b[0mexc_info\u001b[0m\u001b[0;34m=\u001b[0m\u001b[0;32mTrue\u001b[0m\u001b[0;34m)\u001b[0m\u001b[0;34m\u001b[0m\u001b[0;34m\u001b[0m\u001b[0m\n",
            "\u001b[0;31mKeyboardInterrupt\u001b[0m: Interrupted by user"
          ]
        }
      ]
    }
  ]
}